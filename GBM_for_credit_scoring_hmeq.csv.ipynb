{
 "cells": [
  {
   "cell_type": "markdown",
   "metadata": {},
   "source": [
    "##  Giới thiệu \n",
    "\n",
    "Gradient Booting Machine (viết tắt là GBM, hoặc có khi chỉ nói ngắn hơn là Gradient Booting) là một cách tiếp cận của Machine Learning cho cả bài toán hồi quy và phân loại. Chi tiết hơn về mô hình  này bạn đọc có thể tham khảo [tại đây](https://en.wikipedia.org/wiki/Gradient_boosting). \n",
    "\n",
    "Trong bài này chúng ta sẽ sử dụng bộ dữ liệu có tên **hmeq.csv** từ cuốn sách [Credit Risk Analytics: Measurement Techniques, Applications, and Examples in SAS](http://www.creditriskanalytics.net/datasets-private.html). Đây là bộ dữ liệu được sử dụng nhiều lần trong cuốn sách này cho một số mô hình phân loại. \n",
    "\n",
    "Mô tả về các biến (cũng như link download bộ số liệu) đã có ở link trên. Mục tiêu của chúng ta là dựa trên các thông tin về khách hàng xin cấp tín dụng (nghề nghiệp, mục đích vay, số tiền vay, có tiền án hay chưa..) để xây dựng một mô hình phân loại hồ sơ làm cơ sở cấp tín dụng cho khách hàng. \n",
    "\n",
    "Với các bài toán phân loại như vừa trình  bày, Logistic thường là mô hình  được nghĩ đến đầu tiên. Tuy vậy chất lượng phân loại của  mô hình này là chưa tốt. \n",
    "\n",
    "Sử dụng mô hình GBM kết quả phân loại của  mô hình đạt mức chính xác cao hơn  nhiều so với Logistic đối với bộ dữ liệu hmeq.csv. Cụ thể chất lượng phân loại mô hình GBM đối với bộ dữ liệu test: (1) Accuracy là 94.43%, (2) tỉ lệ xếp nhầm hồ sơ xấu thành hồ sơ tốt (đây mới là quan trọng) ở mức thấp 17.65%, (3) AUC = 0.97 (mức rất cao theo [các tiêu chuẩn đánh giá chất lượng mô hình phân loại](https://www.ncbi.nlm.nih.gov/pmc/articles/PMC3755824/), và (4) Gini = 0.94.\n",
    "\n",
    "Post này được trình bày theo thứ tự như sau. Trước hết là thực hiện tiền xử lí số liệu (xử lí dữ liệu trống, dán lại nhãn cho các quan sát, được giải thích chi tiết [ở đây](https://github.com/chidungkr/Data_Wrangling_pandas_DeepLearning/blob/master/chapter2_pandas.ipynb)). Kế đến mô hình GBM không tinh chỉnh được thực hiện trước với mục đính thăm dò và cuối cùng một mô hình tinh chỉnh cuối cùng được lựa chọn được lựa chọn. \n",
    "\n",
    "Ngôn ngữ sử dụng là Python với gói h20. Mặc dù gói này có thể sử dụng trong R nhưng ở đây Python được lựa chọn vì những thế  mạnh của nó khi thực hiện các thuật toán Machine Learning và Deep Learning. \n",
    "\n",
    "\n"
   ]
  },
  {
   "cell_type": "markdown",
   "metadata": {},
   "source": [
    "### Tiền xử lí số liệu\n",
    "\n",
    "Dưới đây là codes cho tiền xử lí số liệu (được làm gọn lại mà không giải thích gì): \n"
   ]
  },
  {
   "cell_type": "code",
   "execution_count": 1,
   "metadata": {
    "collapsed": true
   },
   "outputs": [],
   "source": [
    "# Đọc vào bộ dữ liệu này với tên credit và thực hiện tiền xử lí số liệu: \n",
    "import pandas as pd\n",
    "credit = pd.read_csv(\"F:/Python_project/python_mini_project/hmeq.csv\")\n",
    "\n",
    "credit = credit.assign(MORTDUE = credit[\"MORTDUE\"].fillna(credit[\"MORTDUE\"].mean()),\n",
    "                       VALUE = credit[\"VALUE\"].fillna(credit[\"VALUE\"].mean()), \n",
    "                       DEBTINC = credit[\"DEBTINC\"].fillna(credit[\"DEBTINC\"].mean()), \n",
    "                       JOB = credit[\"JOB\"].fillna(\"Other\"), \n",
    "                       REASON = credit[\"REASON\"].fillna(\"Unknown\"))"
   ]
  },
  {
   "cell_type": "code",
   "execution_count": 2,
   "metadata": {},
   "outputs": [
    {
     "data": {
      "text/html": [
       "<div>\n",
       "<style scoped>\n",
       "    .dataframe tbody tr th:only-of-type {\n",
       "        vertical-align: middle;\n",
       "    }\n",
       "\n",
       "    .dataframe tbody tr th {\n",
       "        vertical-align: top;\n",
       "    }\n",
       "\n",
       "    .dataframe thead th {\n",
       "        text-align: right;\n",
       "    }\n",
       "</style>\n",
       "<table border=\"1\" class=\"dataframe\">\n",
       "  <thead>\n",
       "    <tr style=\"text-align: right;\">\n",
       "      <th></th>\n",
       "      <th>BAD</th>\n",
       "      <th>LOAN</th>\n",
       "      <th>MORTDUE</th>\n",
       "      <th>VALUE</th>\n",
       "      <th>REASON</th>\n",
       "      <th>JOB</th>\n",
       "      <th>YOJ</th>\n",
       "      <th>DEROG</th>\n",
       "      <th>DELINQ</th>\n",
       "      <th>CLAGE</th>\n",
       "      <th>NINQ</th>\n",
       "      <th>CLNO</th>\n",
       "      <th>DEBTINC</th>\n",
       "    </tr>\n",
       "  </thead>\n",
       "  <tbody>\n",
       "    <tr>\n",
       "      <th>0</th>\n",
       "      <td>B</td>\n",
       "      <td>1100</td>\n",
       "      <td>25860.0</td>\n",
       "      <td>39025.0</td>\n",
       "      <td>HomeImp</td>\n",
       "      <td>Other</td>\n",
       "      <td>10.5</td>\n",
       "      <td>0.0</td>\n",
       "      <td>0.0</td>\n",
       "      <td>94.366667</td>\n",
       "      <td>1.0</td>\n",
       "      <td>9.0</td>\n",
       "      <td>33.779915</td>\n",
       "    </tr>\n",
       "    <tr>\n",
       "      <th>1</th>\n",
       "      <td>B</td>\n",
       "      <td>1300</td>\n",
       "      <td>70053.0</td>\n",
       "      <td>68400.0</td>\n",
       "      <td>HomeImp</td>\n",
       "      <td>Other</td>\n",
       "      <td>7.0</td>\n",
       "      <td>0.0</td>\n",
       "      <td>2.0</td>\n",
       "      <td>121.833333</td>\n",
       "      <td>0.0</td>\n",
       "      <td>14.0</td>\n",
       "      <td>33.779915</td>\n",
       "    </tr>\n",
       "    <tr>\n",
       "      <th>2</th>\n",
       "      <td>B</td>\n",
       "      <td>1500</td>\n",
       "      <td>13500.0</td>\n",
       "      <td>16700.0</td>\n",
       "      <td>HomeImp</td>\n",
       "      <td>Other</td>\n",
       "      <td>4.0</td>\n",
       "      <td>0.0</td>\n",
       "      <td>0.0</td>\n",
       "      <td>149.466667</td>\n",
       "      <td>1.0</td>\n",
       "      <td>10.0</td>\n",
       "      <td>33.779915</td>\n",
       "    </tr>\n",
       "    <tr>\n",
       "      <th>4</th>\n",
       "      <td>G</td>\n",
       "      <td>1700</td>\n",
       "      <td>97800.0</td>\n",
       "      <td>112000.0</td>\n",
       "      <td>HomeImp</td>\n",
       "      <td>Office</td>\n",
       "      <td>3.0</td>\n",
       "      <td>0.0</td>\n",
       "      <td>0.0</td>\n",
       "      <td>93.333333</td>\n",
       "      <td>0.0</td>\n",
       "      <td>14.0</td>\n",
       "      <td>33.779915</td>\n",
       "    </tr>\n",
       "    <tr>\n",
       "      <th>5</th>\n",
       "      <td>B</td>\n",
       "      <td>1700</td>\n",
       "      <td>30548.0</td>\n",
       "      <td>40320.0</td>\n",
       "      <td>HomeImp</td>\n",
       "      <td>Other</td>\n",
       "      <td>9.0</td>\n",
       "      <td>0.0</td>\n",
       "      <td>0.0</td>\n",
       "      <td>101.466002</td>\n",
       "      <td>1.0</td>\n",
       "      <td>8.0</td>\n",
       "      <td>37.113614</td>\n",
       "    </tr>\n",
       "  </tbody>\n",
       "</table>\n",
       "</div>"
      ],
      "text/plain": [
       "  BAD  LOAN  MORTDUE     VALUE   REASON     JOB   YOJ  DEROG  DELINQ  \\\n",
       "0   B  1100  25860.0   39025.0  HomeImp   Other  10.5    0.0     0.0   \n",
       "1   B  1300  70053.0   68400.0  HomeImp   Other   7.0    0.0     2.0   \n",
       "2   B  1500  13500.0   16700.0  HomeImp   Other   4.0    0.0     0.0   \n",
       "4   G  1700  97800.0  112000.0  HomeImp  Office   3.0    0.0     0.0   \n",
       "5   B  1700  30548.0   40320.0  HomeImp   Other   9.0    0.0     0.0   \n",
       "\n",
       "        CLAGE  NINQ  CLNO    DEBTINC  \n",
       "0   94.366667   1.0   9.0  33.779915  \n",
       "1  121.833333   0.0  14.0  33.779915  \n",
       "2  149.466667   1.0  10.0  33.779915  \n",
       "4   93.333333   0.0  14.0  33.779915  \n",
       "5  101.466002   1.0   8.0  37.113614  "
      ]
     },
     "execution_count": 2,
     "metadata": {},
     "output_type": "execute_result"
    }
   ],
   "source": [
    "# Dán lại nhãn cho BAD và giữ lại bản dữ liệu gốc credit: \n",
    "df = credit.dropna(how = \"any\", axis = 0)\n",
    "df2 = df.assign(BAD = df[\"BAD\"].map(lambda x: \"B\" if x == 1 else \"G\"))\n",
    "df2.head()"
   ]
  },
  {
   "cell_type": "markdown",
   "metadata": {},
   "source": [
    "### GBM mặc định (default)\n",
    "\n",
    "Dưới đây thực hiện GBM mặc định trong đó 80% dữ liệu được sử dụng để dựng mô hình, 20% còn lại được sử dụng để đánh giá chất lượng của  mô hình. Mặt khác để đánh giá chi tiết hơn chất lượng của mô hình cross - validation với k = 5 được sử dụng: "
   ]
  },
  {
   "cell_type": "code",
   "execution_count": 3,
   "metadata": {},
   "outputs": [
    {
     "name": "stdout",
     "output_type": "stream",
     "text": [
      "Checking whether there is an H2O instance running at http://localhost:54321. connected.\n"
     ]
    },
    {
     "data": {
      "text/html": [
       "<div style=\"overflow:auto\"><table style=\"width:50%\"><tr><td>H2O cluster uptime:</td>\n",
       "<td>3 hours 44 mins</td></tr>\n",
       "<tr><td>H2O cluster version:</td>\n",
       "<td>3.16.0.2</td></tr>\n",
       "<tr><td>H2O cluster version age:</td>\n",
       "<td>13 days </td></tr>\n",
       "<tr><td>H2O cluster name:</td>\n",
       "<td>H2O_from_python_win10ls_dldeaa</td></tr>\n",
       "<tr><td>H2O cluster total nodes:</td>\n",
       "<td>1</td></tr>\n",
       "<tr><td>H2O cluster free memory:</td>\n",
       "<td>5.203 Gb</td></tr>\n",
       "<tr><td>H2O cluster total cores:</td>\n",
       "<td>4</td></tr>\n",
       "<tr><td>H2O cluster allowed cores:</td>\n",
       "<td>2</td></tr>\n",
       "<tr><td>H2O cluster status:</td>\n",
       "<td>locked, healthy</td></tr>\n",
       "<tr><td>H2O connection url:</td>\n",
       "<td>http://localhost:54321</td></tr>\n",
       "<tr><td>H2O connection proxy:</td>\n",
       "<td>None</td></tr>\n",
       "<tr><td>H2O internal security:</td>\n",
       "<td>False</td></tr>\n",
       "<tr><td>H2O API Extensions:</td>\n",
       "<td>Algos, AutoML, Core V3, Core V4</td></tr>\n",
       "<tr><td>Python version:</td>\n",
       "<td>3.6.3 final</td></tr></table></div>"
      ],
      "text/plain": [
       "--------------------------  -------------------------------\n",
       "H2O cluster uptime:         3 hours 44 mins\n",
       "H2O cluster version:        3.16.0.2\n",
       "H2O cluster version age:    13 days\n",
       "H2O cluster name:           H2O_from_python_win10ls_dldeaa\n",
       "H2O cluster total nodes:    1\n",
       "H2O cluster free memory:    5.203 Gb\n",
       "H2O cluster total cores:    4\n",
       "H2O cluster allowed cores:  2\n",
       "H2O cluster status:         locked, healthy\n",
       "H2O connection url:         http://localhost:54321\n",
       "H2O connection proxy:\n",
       "H2O internal security:      False\n",
       "H2O API Extensions:         Algos, AutoML, Core V3, Core V4\n",
       "Python version:             3.6.3 final\n",
       "--------------------------  -------------------------------"
      ]
     },
     "metadata": {},
     "output_type": "display_data"
    }
   ],
   "source": [
    "# Load gói h2o: \n",
    "import h2o\n",
    "\n",
    "# Chỉ định 2 nhân của bộ vi xử lí, sử dụng 6 Gi RAM: \n",
    "h2o.init(nthreads = 2, max_mem_size = 6)"
   ]
  },
  {
   "cell_type": "code",
   "execution_count": 4,
   "metadata": {},
   "outputs": [
    {
     "name": "stdout",
     "output_type": "stream",
     "text": [
      "Parse progress: |█████████████████████████████████████████████████████████| 100%\n"
     ]
    }
   ],
   "source": [
    "# Chuyển hóa về object của h2o: \n",
    "df = h2o.H2OFrame(df2)"
   ]
  },
  {
   "cell_type": "code",
   "execution_count": 5,
   "metadata": {
    "collapsed": true
   },
   "outputs": [],
   "source": [
    "# Chỉ  thị biến Input và output: \n",
    "response = \"BAD\"\n",
    "predictors = df.names\n",
    "predictors.remove(\"BAD\")"
   ]
  },
  {
   "cell_type": "code",
   "execution_count": 6,
   "metadata": {
    "collapsed": true
   },
   "outputs": [],
   "source": [
    "# Phân chia dữ liệu: \n",
    "train, test = df.split_frame(ratios = [0.8], seed = 1234)"
   ]
  },
  {
   "cell_type": "code",
   "execution_count": 7,
   "metadata": {},
   "outputs": [
    {
     "name": "stdout",
     "output_type": "stream",
     "text": [
      "gbm Model Build progress: |███████████████████████████████████████████████| 100%\n"
     ]
    }
   ],
   "source": [
    "# Thực hiện GBM mặc định đồng thời thực  hiện  cross - validation với k = 5: \n",
    "from h2o.estimators.gbm import H2OGradientBoostingEstimator\n",
    "cv_gbm = H2OGradientBoostingEstimator(nfolds = 5, seed = 29)\n",
    "cv_gbm.train(x = predictors, y = response, training_frame = train)"
   ]
  },
  {
   "cell_type": "code",
   "execution_count": 8,
   "metadata": {},
   "outputs": [
    {
     "data": {
      "text/html": [
       "<div>\n",
       "<style scoped>\n",
       "    .dataframe tbody tr th:only-of-type {\n",
       "        vertical-align: middle;\n",
       "    }\n",
       "\n",
       "    .dataframe tbody tr th {\n",
       "        vertical-align: top;\n",
       "    }\n",
       "\n",
       "    .dataframe thead th {\n",
       "        text-align: right;\n",
       "    }\n",
       "</style>\n",
       "<table border=\"1\" class=\"dataframe\">\n",
       "  <thead>\n",
       "    <tr style=\"text-align: right;\">\n",
       "      <th></th>\n",
       "      <th></th>\n",
       "      <th>mean</th>\n",
       "      <th>sd</th>\n",
       "      <th>cv_1_valid</th>\n",
       "      <th>cv_2_valid</th>\n",
       "      <th>cv_3_valid</th>\n",
       "      <th>cv_4_valid</th>\n",
       "      <th>cv_5_valid</th>\n",
       "    </tr>\n",
       "  </thead>\n",
       "  <tbody>\n",
       "    <tr>\n",
       "      <th>0</th>\n",
       "      <td>accuracy</td>\n",
       "      <td>0.9126177</td>\n",
       "      <td>0.006552664</td>\n",
       "      <td>0.89673203</td>\n",
       "      <td>0.9088639</td>\n",
       "      <td>0.91699094</td>\n",
       "      <td>0.916558</td>\n",
       "      <td>0.92394364</td>\n",
       "    </tr>\n",
       "    <tr>\n",
       "      <th>1</th>\n",
       "      <td>auc</td>\n",
       "      <td>0.9365273</td>\n",
       "      <td>0.010126648</td>\n",
       "      <td>0.9204472</td>\n",
       "      <td>0.94136924</td>\n",
       "      <td>0.93870157</td>\n",
       "      <td>0.9223821</td>\n",
       "      <td>0.95973635</td>\n",
       "    </tr>\n",
       "    <tr>\n",
       "      <th>2</th>\n",
       "      <td>err</td>\n",
       "      <td>0.087382294</td>\n",
       "      <td>0.006552664</td>\n",
       "      <td>0.103267975</td>\n",
       "      <td>0.09113608</td>\n",
       "      <td>0.08300908</td>\n",
       "      <td>0.08344198</td>\n",
       "      <td>0.07605634</td>\n",
       "    </tr>\n",
       "    <tr>\n",
       "      <th>3</th>\n",
       "      <td>err_count</td>\n",
       "      <td>66.8</td>\n",
       "      <td>6.0564017</td>\n",
       "      <td>79.0</td>\n",
       "      <td>73.0</td>\n",
       "      <td>64.0</td>\n",
       "      <td>64.0</td>\n",
       "      <td>54.0</td>\n",
       "    </tr>\n",
       "    <tr>\n",
       "      <th>4</th>\n",
       "      <td>f0point5</td>\n",
       "      <td>0.9329659</td>\n",
       "      <td>0.0061356486</td>\n",
       "      <td>0.91885823</td>\n",
       "      <td>0.93506086</td>\n",
       "      <td>0.92802453</td>\n",
       "      <td>0.9430101</td>\n",
       "      <td>0.9398756</td>\n",
       "    </tr>\n",
       "    <tr>\n",
       "      <th>5</th>\n",
       "      <td>f1</td>\n",
       "      <td>0.94598395</td>\n",
       "      <td>0.0043874066</td>\n",
       "      <td>0.9355102</td>\n",
       "      <td>0.9425649</td>\n",
       "      <td>0.9498433</td>\n",
       "      <td>0.9492868</td>\n",
       "      <td>0.95271456</td>\n",
       "    </tr>\n",
       "    <tr>\n",
       "      <th>6</th>\n",
       "      <td>f2</td>\n",
       "      <td>0.9594473</td>\n",
       "      <td>0.0060195317</td>\n",
       "      <td>0.95277685</td>\n",
       "      <td>0.95019037</td>\n",
       "      <td>0.9727127</td>\n",
       "      <td>0.9556477</td>\n",
       "      <td>0.96590906</td>\n",
       "    </tr>\n",
       "    <tr>\n",
       "      <th>7</th>\n",
       "      <td>lift_top_group</td>\n",
       "      <td>1.2342124</td>\n",
       "      <td>0.056524605</td>\n",
       "      <td>1.2878788</td>\n",
       "      <td>1.277512</td>\n",
       "      <td>1.2577487</td>\n",
       "      <td>1.0755209</td>\n",
       "      <td>1.2724015</td>\n",
       "    </tr>\n",
       "    <tr>\n",
       "      <th>8</th>\n",
       "      <td>logloss</td>\n",
       "      <td>0.24091102</td>\n",
       "      <td>0.014306171</td>\n",
       "      <td>0.27356184</td>\n",
       "      <td>0.24414773</td>\n",
       "      <td>0.23189491</td>\n",
       "      <td>0.24372014</td>\n",
       "      <td>0.21123052</td>\n",
       "    </tr>\n",
       "    <tr>\n",
       "      <th>9</th>\n",
       "      <td>max_per_class_error</td>\n",
       "      <td>0.29888934</td>\n",
       "      <td>0.030056799</td>\n",
       "      <td>0.33918127</td>\n",
       "      <td>0.25862068</td>\n",
       "      <td>0.3607595</td>\n",
       "      <td>0.27272728</td>\n",
       "      <td>0.2631579</td>\n",
       "    </tr>\n",
       "    <tr>\n",
       "      <th>10</th>\n",
       "      <td>mcc</td>\n",
       "      <td>0.72382694</td>\n",
       "      <td>0.017890926</td>\n",
       "      <td>0.6855314</td>\n",
       "      <td>0.7237279</td>\n",
       "      <td>0.73017365</td>\n",
       "      <td>0.71555614</td>\n",
       "      <td>0.76414573</td>\n",
       "    </tr>\n",
       "    <tr>\n",
       "      <th>11</th>\n",
       "      <td>mean_per_class_accuracy</td>\n",
       "      <td>0.834897</td>\n",
       "      <td>0.012762904</td>\n",
       "      <td>0.8127326</td>\n",
       "      <td>0.84836113</td>\n",
       "      <td>0.8139106</td>\n",
       "      <td>0.8436043</td>\n",
       "      <td>0.85587627</td>\n",
       "    </tr>\n",
       "    <tr>\n",
       "      <th>12</th>\n",
       "      <td>mean_per_class_error</td>\n",
       "      <td>0.16510302</td>\n",
       "      <td>0.012762904</td>\n",
       "      <td>0.18726741</td>\n",
       "      <td>0.1516389</td>\n",
       "      <td>0.18608937</td>\n",
       "      <td>0.15639569</td>\n",
       "      <td>0.14412375</td>\n",
       "    </tr>\n",
       "    <tr>\n",
       "      <th>13</th>\n",
       "      <td>mse</td>\n",
       "      <td>0.06932641</td>\n",
       "      <td>0.004872927</td>\n",
       "      <td>0.0805898</td>\n",
       "      <td>0.07160715</td>\n",
       "      <td>0.065607846</td>\n",
       "      <td>0.069066025</td>\n",
       "      <td>0.05976122</td>\n",
       "    </tr>\n",
       "    <tr>\n",
       "      <th>14</th>\n",
       "      <td>precision</td>\n",
       "      <td>0.9245224</td>\n",
       "      <td>0.008163838</td>\n",
       "      <td>0.9080824</td>\n",
       "      <td>0.9301242</td>\n",
       "      <td>0.91402715</td>\n",
       "      <td>0.9388715</td>\n",
       "      <td>0.9315069</td>\n",
       "    </tr>\n",
       "    <tr>\n",
       "      <th>15</th>\n",
       "      <td>r2</td>\n",
       "      <td>0.5802727</td>\n",
       "      <td>0.027776329</td>\n",
       "      <td>0.5356768</td>\n",
       "      <td>0.5788812</td>\n",
       "      <td>0.5973321</td>\n",
       "      <td>0.5446613</td>\n",
       "      <td>0.6448119</td>\n",
       "    </tr>\n",
       "    <tr>\n",
       "      <th>16</th>\n",
       "      <td>recall</td>\n",
       "      <td>0.9686833</td>\n",
       "      <td>0.008399193</td>\n",
       "      <td>0.96464646</td>\n",
       "      <td>0.9553429</td>\n",
       "      <td>0.98858076</td>\n",
       "      <td>0.9599359</td>\n",
       "      <td>0.9749104</td>\n",
       "    </tr>\n",
       "    <tr>\n",
       "      <th>17</th>\n",
       "      <td>rmse</td>\n",
       "      <td>0.26297683</td>\n",
       "      <td>0.009208778</td>\n",
       "      <td>0.28388342</td>\n",
       "      <td>0.26759514</td>\n",
       "      <td>0.2561403</td>\n",
       "      <td>0.26280415</td>\n",
       "      <td>0.24446107</td>\n",
       "    </tr>\n",
       "    <tr>\n",
       "      <th>18</th>\n",
       "      <td>specificity</td>\n",
       "      <td>0.70111066</td>\n",
       "      <td>0.030056799</td>\n",
       "      <td>0.6608187</td>\n",
       "      <td>0.7413793</td>\n",
       "      <td>0.6392405</td>\n",
       "      <td>0.72727275</td>\n",
       "      <td>0.7368421</td>\n",
       "    </tr>\n",
       "  </tbody>\n",
       "</table>\n",
       "</div>"
      ],
      "text/plain": [
       "                                    mean            sd   cv_1_valid  \\\n",
       "0                  accuracy    0.9126177   0.006552664   0.89673203   \n",
       "1                       auc    0.9365273   0.010126648    0.9204472   \n",
       "2                       err  0.087382294   0.006552664  0.103267975   \n",
       "3                 err_count         66.8     6.0564017         79.0   \n",
       "4                  f0point5    0.9329659  0.0061356486   0.91885823   \n",
       "5                        f1   0.94598395  0.0043874066    0.9355102   \n",
       "6                        f2    0.9594473  0.0060195317   0.95277685   \n",
       "7            lift_top_group    1.2342124   0.056524605    1.2878788   \n",
       "8                   logloss   0.24091102   0.014306171   0.27356184   \n",
       "9       max_per_class_error   0.29888934   0.030056799   0.33918127   \n",
       "10                      mcc   0.72382694   0.017890926    0.6855314   \n",
       "11  mean_per_class_accuracy     0.834897   0.012762904    0.8127326   \n",
       "12     mean_per_class_error   0.16510302   0.012762904   0.18726741   \n",
       "13                      mse   0.06932641   0.004872927    0.0805898   \n",
       "14                precision    0.9245224   0.008163838    0.9080824   \n",
       "15                       r2    0.5802727   0.027776329    0.5356768   \n",
       "16                   recall    0.9686833   0.008399193   0.96464646   \n",
       "17                     rmse   0.26297683   0.009208778   0.28388342   \n",
       "18              specificity   0.70111066   0.030056799    0.6608187   \n",
       "\n",
       "    cv_2_valid   cv_3_valid   cv_4_valid  cv_5_valid  \n",
       "0    0.9088639   0.91699094     0.916558  0.92394364  \n",
       "1   0.94136924   0.93870157    0.9223821  0.95973635  \n",
       "2   0.09113608   0.08300908   0.08344198  0.07605634  \n",
       "3         73.0         64.0         64.0        54.0  \n",
       "4   0.93506086   0.92802453    0.9430101   0.9398756  \n",
       "5    0.9425649    0.9498433    0.9492868  0.95271456  \n",
       "6   0.95019037    0.9727127    0.9556477  0.96590906  \n",
       "7     1.277512    1.2577487    1.0755209   1.2724015  \n",
       "8   0.24414773   0.23189491   0.24372014  0.21123052  \n",
       "9   0.25862068    0.3607595   0.27272728   0.2631579  \n",
       "10   0.7237279   0.73017365   0.71555614  0.76414573  \n",
       "11  0.84836113    0.8139106    0.8436043  0.85587627  \n",
       "12   0.1516389   0.18608937   0.15639569  0.14412375  \n",
       "13  0.07160715  0.065607846  0.069066025  0.05976122  \n",
       "14   0.9301242   0.91402715    0.9388715   0.9315069  \n",
       "15   0.5788812    0.5973321    0.5446613   0.6448119  \n",
       "16   0.9553429   0.98858076    0.9599359   0.9749104  \n",
       "17  0.26759514    0.2561403   0.26280415  0.24446107  \n",
       "18   0.7413793    0.6392405   0.72727275   0.7368421  "
      ]
     },
     "execution_count": 8,
     "metadata": {},
     "output_type": "execute_result"
    }
   ],
   "source": [
    "# Đánh giá qua chất lượng của mô hình trên bộ dữ liệu train: \n",
    "cv_summary = cv_gbm.cross_validation_metrics_summary().as_data_frame()\n",
    "cv_summary"
   ]
  },
  {
   "cell_type": "markdown",
   "metadata": {},
   "source": [
    "Con số 0.9126177 ở dòng  accuracy chính là Accuracy trung bình của 5 mô hình con (chính là trung bình của 0.89673203 cho đến 0.92394364). Các tiêu chí đánh giá chất lượng khác của mô hình cũng được hiểu tương tự. \n",
    "\n",
    "Căn cứ theo các tiêu chuẩn thống kê thì chất lượng của mô hình trên bộ dữ liệu train là khá tốt. Nhưng đây không phải là điều  chúng ta quan tâm nhiều vì thứ chúng ta muốn là khả năng phân loại và chất lượng của mô hình trên bộ dữ liệu tương lai, trên bộ dữ liệu test. \n",
    "\n",
    "Dưới đây là các thông tin về khả năng dự báo của  mô hình trên bộ dữ liệu test:"
   ]
  },
  {
   "cell_type": "code",
   "execution_count": 12,
   "metadata": {},
   "outputs": [],
   "source": [
    "# Sử dụng dữ liệu test để đánh giá mô hình: \n",
    "perf_cv_test = cv_gbm.model_performance(test)"
   ]
  },
  {
   "cell_type": "code",
   "execution_count": 14,
   "metadata": {},
   "outputs": [
    {
     "data": {
      "text/plain": [
       "0.9509333870534515"
      ]
     },
     "execution_count": 14,
     "metadata": {},
     "output_type": "execute_result"
    }
   ],
   "source": [
    "# AUC trên bộ dữ liệu test: \n",
    "perf_cv_test.auc()"
   ]
  },
  {
   "cell_type": "code",
   "execution_count": 15,
   "metadata": {},
   "outputs": [
    {
     "data": {
      "text/plain": [
       "0.9018667741069031"
      ]
     },
     "execution_count": 15,
     "metadata": {},
     "output_type": "execute_result"
    }
   ],
   "source": [
    "# Tiêu chuẩn Gini: \n",
    "perf_cv_test.gini()"
   ]
  },
  {
   "cell_type": "code",
   "execution_count": 13,
   "metadata": {},
   "outputs": [
    {
     "name": "stdout",
     "output_type": "stream",
     "text": [
      "Confusion Matrix (Act/Pred) for max f1 @ threshold = 0.6067372677621797: \n"
     ]
    },
    {
     "data": {
      "text/html": [
       "<div style=\"overflow:auto\"><table style=\"width:50%\"><tr><td><b></b></td>\n",
       "<td><b>B</b></td>\n",
       "<td><b>G</b></td>\n",
       "<td><b>Error</b></td>\n",
       "<td><b>Rate</b></td></tr>\n",
       "<tr><td>B</td>\n",
       "<td>153.0</td>\n",
       "<td>51.0</td>\n",
       "<td>0.25</td>\n",
       "<td> (51.0/204.0)</td></tr>\n",
       "<tr><td>G</td>\n",
       "<td>29.0</td>\n",
       "<td>701.0</td>\n",
       "<td>0.0397</td>\n",
       "<td> (29.0/730.0)</td></tr>\n",
       "<tr><td>Total</td>\n",
       "<td>182.0</td>\n",
       "<td>752.0</td>\n",
       "<td>0.0857</td>\n",
       "<td> (80.0/934.0)</td></tr></table></div>"
      ],
      "text/plain": [
       "       B    G    Error    Rate\n",
       "-----  ---  ---  -------  ------------\n",
       "B      153  51   0.25     (51.0/204.0)\n",
       "G      29   701  0.0397   (29.0/730.0)\n",
       "Total  182  752  0.0857   (80.0/934.0)"
      ]
     },
     "metadata": {},
     "output_type": "display_data"
    },
    {
     "data": {
      "text/plain": []
     },
     "execution_count": 13,
     "metadata": {},
     "output_type": "execute_result"
    }
   ],
   "source": [
    "# Ma trận nhầm lẫn: \n",
    "perf_cv_test.confusion_matrix()"
   ]
  },
  {
   "cell_type": "code",
   "execution_count": 16,
   "metadata": {},
   "outputs": [
    {
     "data": {
      "text/plain": [
       "0.9143"
      ]
     },
     "execution_count": 16,
     "metadata": {},
     "output_type": "execute_result"
    }
   ],
   "source": [
    "# Accuracy khi áp dụng  mô hình trên bộ dữ liệu test: \n",
    "1 - 0.0857"
   ]
  },
  {
   "cell_type": "markdown",
   "metadata": {},
   "source": [
    "Mặc dù mức độ chính xác 91.43% cùng với các chỉ tiêu AUC, Gini là cao nhưng GBM mặc định này dự báo sai 51 hồ sơ xấu (nhãn B) thành hồ sơ tốt (nhãn G) tương đương với mức sai sót 25%. Xếp sai hồ sơ tốt thành xấu có thể bỏ lỡ một cơ hội  kiếm lời nhưng xếp nhầm hồ sơ xấu thành hồ sơ tốt thì hậu quả là nặng nề hơn  nhiều đối với  tổ chức  tài  chính. \n",
    "\n",
    "Do vậy chúng ta cần cải tiến GBM mặc định trên. "
   ]
  },
  {
   "cell_type": "markdown",
   "metadata": {},
   "source": [
    "### GBM tinh chỉnh"
   ]
  },
  {
   "cell_type": "code",
   "execution_count": 17,
   "metadata": {
    "collapsed": true
   },
   "outputs": [],
   "source": [
    "# Thiết lập các tham số cho GBM: \n",
    "\n",
    "gbm_turned = H2OGradientBoostingEstimator(\n",
    "    \n",
    "  # Số trees càng lớn càng tốt nếu learning rate là đủ nhỏ (nhưng cần  nhiều thời gian tính toán):   \n",
    "  ntrees = 10000,                                                            \n",
    "\n",
    "  # leaning rate càng bé càng tốt nhưng mất nhiều  thời gian hơn để tính toán: \n",
    "  learn_rate = 0.01,                                                         \n",
    "\n",
    "  # Dừng sớm thuật toán nếu validation AUC không cải thiện ở ngưỡi ít nhất 0.01% sau 5 lần thực hiện: \n",
    "  stopping_rounds = 5, stopping_tolerance = 1e-4, stopping_metric = \"AUC\", \n",
    "\n",
    "  # chọn 80% số cột biến đầu vào cho mỗi cây: \n",
    "  sample_rate = 0.8,                                                       \n",
    "\n",
    "  # chọn 80% số cột  cho mỗi lần phân chia: \n",
    "  col_sample_rate = 0.8,                                                   \n",
    "\n",
    "  # tái tạo lại kết quả: \n",
    "  seed = 1234,                                                             \n",
    "  score_tree_interval = 10)\n"
   ]
  },
  {
   "cell_type": "code",
   "execution_count": 19,
   "metadata": {},
   "outputs": [
    {
     "name": "stdout",
     "output_type": "stream",
     "text": [
      "gbm Model Build progress: |███████████████████████████████████████████████| 100%\n"
     ]
    }
   ],
   "source": [
    "# Thực hiện huấn luyện mô hình: \n",
    "gbm_turned.train(x = predictors, y = response, training_frame = train)"
   ]
  },
  {
   "cell_type": "code",
   "execution_count": 20,
   "metadata": {
    "collapsed": true
   },
   "outputs": [],
   "source": [
    "# Sử dụng mô hình cho test data: \n",
    "perf_for_test = gbm_turned.model_performance(test)"
   ]
  },
  {
   "cell_type": "code",
   "execution_count": 21,
   "metadata": {},
   "outputs": [
    {
     "name": "stdout",
     "output_type": "stream",
     "text": [
      "Confusion Matrix (Act/Pred) for max f1 @ threshold = 0.5615494150111436: \n"
     ]
    },
    {
     "data": {
      "text/html": [
       "<div style=\"overflow:auto\"><table style=\"width:50%\"><tr><td><b></b></td>\n",
       "<td><b>B</b></td>\n",
       "<td><b>G</b></td>\n",
       "<td><b>Error</b></td>\n",
       "<td><b>Rate</b></td></tr>\n",
       "<tr><td>B</td>\n",
       "<td>168.0</td>\n",
       "<td>36.0</td>\n",
       "<td>0.1765</td>\n",
       "<td> (36.0/204.0)</td></tr>\n",
       "<tr><td>G</td>\n",
       "<td>16.0</td>\n",
       "<td>714.0</td>\n",
       "<td>0.0219</td>\n",
       "<td> (16.0/730.0)</td></tr>\n",
       "<tr><td>Total</td>\n",
       "<td>184.0</td>\n",
       "<td>750.0</td>\n",
       "<td>0.0557</td>\n",
       "<td> (52.0/934.0)</td></tr></table></div>"
      ],
      "text/plain": [
       "       B    G    Error    Rate\n",
       "-----  ---  ---  -------  ------------\n",
       "B      168  36   0.1765   (36.0/204.0)\n",
       "G      16   714  0.0219   (16.0/730.0)\n",
       "Total  184  750  0.0557   (52.0/934.0)"
      ]
     },
     "metadata": {},
     "output_type": "display_data"
    },
    {
     "data": {
      "text/plain": []
     },
     "execution_count": 21,
     "metadata": {},
     "output_type": "execute_result"
    }
   ],
   "source": [
    "# Ma trận nhầm lẫn: \n",
    "perf_for_test.confusion_matrix()"
   ]
  },
  {
   "cell_type": "code",
   "execution_count": 22,
   "metadata": {},
   "outputs": [
    {
     "data": {
      "text/plain": [
       "0.9699738114423851"
      ]
     },
     "execution_count": 22,
     "metadata": {},
     "output_type": "execute_result"
    }
   ],
   "source": [
    "# Tính AUC: \n",
    "perf_for_test.auc()"
   ]
  },
  {
   "cell_type": "code",
   "execution_count": 23,
   "metadata": {},
   "outputs": [
    {
     "data": {
      "image/png": "[encoded data removed]",
      "text/plain": [
       "<matplotlib.figure.Figure at 0x20791652c50>"
      ]
     },
     "metadata": {},
     "output_type": "display_data"
    }
   ],
   "source": [
    "# Hình  ảnh hóa AUC: \n",
    "perf_for_test.plot()"
   ]
  },
  {
   "cell_type": "code",
   "execution_count": 24,
   "metadata": {},
   "outputs": [
    {
     "data": {
      "text/plain": [
       "0.9399476228847703"
      ]
     },
     "execution_count": 24,
     "metadata": {},
     "output_type": "execute_result"
    }
   ],
   "source": [
    "#  Tiêu chuẩn Gini: \n",
    "perf_for_test.gini()"
   ]
  },
  {
   "cell_type": "code",
   "execution_count": 26,
   "metadata": {},
   "outputs": [
    {
     "data": {
      "text/plain": [
       "0.9443"
      ]
     },
     "execution_count": 26,
     "metadata": {},
     "output_type": "execute_result"
    }
   ],
   "source": [
    "# Accurracy chung: \n",
    "1 - 0.0557"
   ]
  },
  {
   "cell_type": "markdown",
   "metadata": {},
   "source": [
    "### Kết luận\n",
    "\n",
    "So với mô hình GBM mặc định thì Accuracy của mô hình tinh chỉnh cao hơn (94.43% so với 91.45%) nhưng quan trọng hơn  là tỉ lệ xếp nhầm hồ sơ xấu thành hồ sơ tốt giảm từ 25% xuống còn 17.65%. \n",
    "\n",
    "(To be continued..)"
   ]
  }
 ],
 "metadata": {
  "kernelspec": {
   "display_name": "Python 3",
   "language": "python",
   "name": "python3"
  },
  "language_info": {
   "codemirror_mode": {
    "name": "ipython",
    "version": 3
   },
   "file_extension": ".py",
   "mimetype": "text/x-python",
   "name": "python",
   "nbconvert_exporter": "python",
   "pygments_lexer": "ipython3",
   "version": "3.6.3"
  }
 },
 "nbformat": 4,
 "nbformat_minor": 2
}
